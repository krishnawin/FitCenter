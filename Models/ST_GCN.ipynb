{
  "cells": [
    {
      "cell_type": "code",
      "execution_count": 2,
      "metadata": {
        "execution": {
          "iopub.execute_input": "2024-05-29T05:34:40.302481Z",
          "iopub.status.busy": "2024-05-29T05:34:40.302216Z",
          "iopub.status.idle": "2024-05-29T05:34:59.414436Z",
          "shell.execute_reply": "2024-05-29T05:34:59.413421Z",
          "shell.execute_reply.started": "2024-05-29T05:34:40.302448Z"
        },
        "id": "rb1cutcYKl4t",
        "trusted": true
      },
      "outputs": [],
      "source": [
        "import numpy as np\n",
        "import tensorflow as tf\n",
        "from tensorflow.keras.losses import CategoricalCrossentropy\n",
        "from tensorflow.keras.metrics import categorical_accuracy\n",
        "from tensorflow.keras.optimizers import Adam\n",
        "from sklearn.preprocessing import LabelEncoder,StandardScaler\n",
        "from sklearn.model_selection import train_test_split\n",
        "import os\n",
        "import math"
      ]
    },
    {
      "cell_type": "markdown",
      "metadata": {},
      "source": [
        "## Routine to calculate the Rotation Matrix "
      ]
    },
    {
      "cell_type": "code",
      "execution_count": 3,
      "metadata": {
        "execution": {
          "iopub.execute_input": "2024-05-29T05:34:59.416722Z",
          "iopub.status.busy": "2024-05-29T05:34:59.416149Z",
          "iopub.status.idle": "2024-05-29T05:34:59.425041Z",
          "shell.execute_reply": "2024-05-29T05:34:59.424011Z",
          "shell.execute_reply.started": "2024-05-29T05:34:59.416691Z"
        },
        "id": "4SDpWMaiKl4w",
        "trusted": true
      },
      "outputs": [],
      "source": [
        "def edge2mat(link, num_node):\n",
        "    A = np.zeros((num_node, num_node))\n",
        "    for i, j in link:\n",
        "        A[j, i] = 1\n",
        "    return A\n",
        "\n",
        "\n",
        "def normalize_digraph(A):\n",
        "    Dl = np.sum(A, 0)\n",
        "    h, w = A.shape\n",
        "    Dn = np.zeros((w, w))\n",
        "    for i in range(w):\n",
        "        if Dl[i] > 0:\n",
        "            Dn[i, i] = Dl[i] ** (-1)\n",
        "    AD = np.dot(A, Dn)\n",
        "    return AD\n",
        "\n",
        "\n",
        "def get_spatial_graph(num_node, self_link, inward, outward):\n",
        "    I = edge2mat(self_link, num_node)\n",
        "    In = normalize_digraph(edge2mat(inward, num_node))\n",
        "    Out = normalize_digraph(edge2mat(outward, num_node))\n",
        "    A = np.stack((I, In, Out))\n",
        "    return A"
      ]
    },
    {
      "cell_type": "markdown",
      "metadata": {},
      "source": [
        "# Define the Grapsh structure . 33 joints as nodes and relation between them as edges. calcualte adjacency matrix  using spatial distance as mode"
      ]
    },
    {
      "cell_type": "code",
      "execution_count": 4,
      "metadata": {
        "colab": {
          "base_uri": "https://localhost:8080/",
          "height": 1000
        },
        "execution": {
          "iopub.execute_input": "2024-05-29T05:34:59.426609Z",
          "iopub.status.busy": "2024-05-29T05:34:59.426266Z",
          "iopub.status.idle": "2024-05-29T05:35:00.041083Z",
          "shell.execute_reply": "2024-05-29T05:35:00.040127Z",
          "shell.execute_reply.started": "2024-05-29T05:34:59.426575Z"
        },
        "id": "njYBYSAOKl4w",
        "outputId": "3237f10f-4b9e-42b3-d6a4-26daece2fc4a",
        "trusted": true
      },
      "outputs": [
        {
          "data": {
            "image/png": "[encoded data removed]",
            "text/plain": [
              "<Figure size 640x480 with 1 Axes>"
            ]
          },
          "metadata": {},
          "output_type": "display_data"
        },
        {
          "data": {
            "image/png": "[encoded data removed]",
            "text/plain": [
              "<Figure size 640x480 with 1 Axes>"
            ]
          },
          "metadata": {},
          "output_type": "display_data"
        },
        {
          "data": {
            "image/png": "[encoded data removed]",
            "text/plain": [
              "<Figure size 640x480 with 1 Axes>"
            ]
          },
          "metadata": {},
          "output_type": "display_data"
        },
        {
          "name": "stdout",
          "output_type": "stream",
          "text": [
            "[[[1.  0.  0.  ... 0.  0.  0. ]\n",
            "  [0.  1.  0.  ... 0.  0.  0. ]\n",
            "  [0.  0.  1.  ... 0.  0.  0. ]\n",
            "  ...\n",
            "  [0.  0.  0.  ... 1.  0.  0. ]\n",
            "  [0.  0.  0.  ... 0.  1.  0. ]\n",
            "  [0.  0.  0.  ... 0.  0.  1. ]]\n",
            "\n",
            " [[0.  0.  0.  ... 0.  0.  0. ]\n",
            "  [0.5 0.  0.  ... 0.  0.  0. ]\n",
            "  [0.  1.  0.  ... 0.  0.  0. ]\n",
            "  ...\n",
            "  [0.  0.  0.  ... 0.  0.  0. ]\n",
            "  [0.  0.  0.  ... 0.  0.  0. ]\n",
            "  [0.  0.  0.  ... 1.  0.  0. ]]\n",
            "\n",
            " [[0.  1.  0.  ... 0.  0.  0. ]\n",
            "  [0.  0.  1.  ... 0.  0.  0. ]\n",
            "  [0.  0.  0.  ... 0.  0.  0. ]\n",
            "  ...\n",
            "  [0.  0.  0.  ... 0.  0.  0.5]\n",
            "  [0.  0.  0.  ... 0.  0.  0. ]\n",
            "  [0.  0.  0.  ... 0.  0.  0. ]]]\n"
          ]
        }
      ],
      "source": [
        "num_node = 33\n",
        "self_link = [(i, i) for i in range(num_node)]\n",
        "inward = [(0,1),(0,4),(1,2),(2,3),(4,5),(5,6),(3,7),(6,8),(9,10),(12,14),(14,16),(16,18),(16,20),(16,22),(18,20),\n",
        "                     (11,12),(11,13),(13,15),(15,21),(15,17),(15,19),(17,19),(23,24),(12,24),(24,26),(26,28),(28,30),(28,32),(30,32),\n",
        "                     (11,23),(23,25),(25,27),(27,29),(27,31),(29,31)]\n",
        "outward = [(j, i) for (i, j) in inward]\n",
        "neighbor = inward + outward\n",
        "\n",
        "\n",
        "class Graph:\n",
        "    def __init__(self, labeling_mode='spatial'):\n",
        "        self.A = self.get_adjacency_matrix(labeling_mode)\n",
        "        self.num_node = num_node\n",
        "        self.self_link = self_link\n",
        "        self.inward = inward\n",
        "        self.outward = outward\n",
        "        self.neighbor = neighbor\n",
        "\n",
        "    def get_adjacency_matrix(self, labeling_mode=None):\n",
        "        if labeling_mode is None:\n",
        "            return self.A\n",
        "        if labeling_mode == 'spatial':\n",
        "            A = get_spatial_graph(num_node, self_link, inward, outward)\n",
        "        else:\n",
        "            raise ValueError()\n",
        "        return A\n",
        "\n",
        "\n",
        "if __name__ == '__main__':\n",
        "    import matplotlib.pyplot as plt\n",
        "    import os\n",
        "\n",
        "    # os.environ['DISPLAY'] = 'localhost:11.0'\n",
        "    A = Graph('spatial').get_adjacency_matrix()\n",
        "    for i in A:\n",
        "        plt.imshow(i, cmap='gray')\n",
        "        plt.show()\n",
        "    print(A)"
      ]
    },
    {
      "cell_type": "code",
      "execution_count": 5,
      "metadata": {
        "execution": {
          "iopub.execute_input": "2024-05-29T05:35:00.045452Z",
          "iopub.status.busy": "2024-05-29T05:35:00.045089Z",
          "iopub.status.idle": "2024-05-29T05:35:00.056836Z",
          "shell.execute_reply": "2024-05-29T05:35:00.055905Z",
          "shell.execute_reply.started": "2024-05-29T05:35:00.045424Z"
        },
        "id": "4hKyWt89Kl4x",
        "trusted": true
      },
      "outputs": [],
      "source": [
        "def rotation_matrix(axis, theta):\n",
        "    \"\"\"\n",
        "    Return the rotation matrix associated with counterclockwise rotation about\n",
        "    the given axis by theta radians.\n",
        "    \"\"\"\n",
        "    if np.abs(axis).sum() < 1e-6 or np.abs(theta) < 1e-6:\n",
        "        return np.eye(3)\n",
        "    axis = np.asarray(axis)\n",
        "    axis = axis / math.sqrt(np.dot(axis, axis))\n",
        "    a = math.cos(theta / 2.0)\n",
        "    b, c, d = -axis * math.sin(theta / 2.0)\n",
        "    aa, bb, cc, dd = a * a, b * b, c * c, d * d\n",
        "    bc, ad, ac, ab, bd, cd = b * c, a * d, a * c, a * b, b * d, c * d\n",
        "    return np.array([[aa + bb - cc - dd, 2 * (bc + ad), 2 * (bd - ac)],\n",
        "                     [2 * (bc - ad), aa + cc - bb - dd, 2 * (cd + ab)],\n",
        "                     [2 * (bd + ac), 2 * (cd - ab), aa + dd - bb - cc]])\n",
        "\n",
        "\n",
        "def unit_vector(vector):\n",
        "    \"\"\" Returns the unit vector of the vector.  \"\"\"\n",
        "    return vector / np.linalg.norm(vector)\n",
        "\n",
        "\n",
        "def angle_between(v1, v2):\n",
        "    \"\"\" Returns the angle in radians between vectors 'v1' and 'v2'::\n",
        "\n",
        "            >>> angle_between((1, 0, 0), (0, 1, 0))\n",
        "            1.5707963267948966\n",
        "            >>> angle_between((1, 0, 0), (1, 0, 0))\n",
        "            0.0\n",
        "            >>> angle_between((1, 0, 0), (-1, 0, 0))\n",
        "            3.141592653589793\n",
        "    \"\"\"\n",
        "    if np.abs(v1).sum() < 1e-6 or np.abs(v2).sum() < 1e-6:\n",
        "        return 0\n",
        "    v1_u = unit_vector(v1)\n",
        "    v2_u = unit_vector(v2)\n",
        "    return np.arccos(np.clip(np.dot(v1_u, v2_u), -1.0, 1.0))"
      ]
    },
    {
      "cell_type": "markdown",
      "metadata": {},
      "source": [
        "# routine to normalize the timeseries to have constant number of frames. in this case used 420 as frame size"
      ]
    },
    {
      "cell_type": "code",
      "execution_count": 6,
      "metadata": {
        "execution": {
          "iopub.execute_input": "2024-05-29T05:35:00.058073Z",
          "iopub.status.busy": "2024-05-29T05:35:00.057826Z",
          "iopub.status.idle": "2024-05-29T05:35:00.073841Z",
          "shell.execute_reply": "2024-05-29T05:35:00.073128Z",
          "shell.execute_reply.started": "2024-05-29T05:35:00.058051Z"
        },
        "id": "dh4dBYvuKl4y",
        "trusted": true
      },
      "outputs": [],
      "source": [
        "def pre_normalization(data, zaxis=[0, 1], xaxis=[8, 4]):\n",
        "    C, T, V, M = data.shape\n",
        "    s = np.transpose(data, [3, 1, 2, 0])\n",
        "    person=s[0]\n",
        "    for i_f, frame in enumerate(person):\n",
        "        if frame.sum() == 0:\n",
        "                    if person[i_f:].sum() == 0:\n",
        "                        rest = len(person) - i_f\n",
        "                        num = int(np.ceil(rest / i_f))\n",
        "                        pad = np.concatenate([person[0:i_f] for _ in range(num)], 0)[:rest]\n",
        "                        s[0, i_f:] = pad\n",
        "                        break\n",
        "    #rhip=s[0,0,24]\n",
        "    #rshoulder = s[0,0,12]\n",
        "    #axis = np.cross(rhip - rshoulder, [0, 1, 0])\n",
        "    #angle = angle_between(rhip - rshoulder, [0, 1, 0])\n",
        "    #matrix_y = rotation_matrix(axis, angle)\n",
        "    #for i_f, frame in enumerate(s[0]):\n",
        "    #    for i_j, joint in enumerate(frame):\n",
        "    #        s[0,i_f,i_j] = np.dot(matrix_y, joint)\n",
        "    #lshoulder = s[0,0,11]\n",
        "    #axis = np.cross(rshoulder - lshoulder, [1, 0, 0])\n",
        "    #angle = angle_between(rshoulder - lshoulder, [1, 0, 0])\n",
        "    #matrix_x = rotation_matrix(axis, angle)\n",
        "    #for i_f, frame in enumerate(s[0]):\n",
        "    #    for i_j, joint in enumerate(frame):\n",
        "    #        s[0,i_f,i_j] = np.dot(matrix_x, joint)\n",
        "    return np.transpose(s,[3,1,2,0])"
      ]
    },
    {
      "cell_type": "code",
      "execution_count": 7,
      "metadata": {
        "execution": {
          "iopub.execute_input": "2024-05-29T05:35:00.075036Z",
          "iopub.status.busy": "2024-05-29T05:35:00.074811Z",
          "iopub.status.idle": "2024-05-29T05:35:00.090354Z",
          "shell.execute_reply": "2024-05-29T05:35:00.089664Z",
          "shell.execute_reply.started": "2024-05-29T05:35:00.075016Z"
        },
        "id": "Bap87gJBKl4y",
        "trusted": true
      },
      "outputs": [],
      "source": [
        "def read_xyz(file):\n",
        "    f=np.loadtxt(file, skiprows=1,delimiter=',',usecols=(range(1,100)))\n",
        "    data = np.zeros((1, 420, 33, 3))\n",
        "    for i in range(0,f.shape[0]):\n",
        "        data[0,i,:,:]=f[i].reshape(3,33).transpose()\n",
        "    return data.transpose(3, 1, 2, 0)"
      ]
    },
    {
      "cell_type": "code",
      "execution_count": 8,
      "metadata": {
        "execution": {
          "iopub.execute_input": "2024-05-29T05:35:00.091681Z",
          "iopub.status.busy": "2024-05-29T05:35:00.091390Z",
          "iopub.status.idle": "2024-05-29T05:35:00.104004Z",
          "shell.execute_reply": "2024-05-29T05:35:00.103105Z",
          "shell.execute_reply.started": "2024-05-29T05:35:00.091656Z"
        },
        "id": "YKZftTbxKl4y",
        "trusted": true
      },
      "outputs": [],
      "source": [
        "def reshape(dataset):\n",
        "    n_ts = len(dataset)\n",
        "    max_sz = max(\n",
        "        [ts.shape[1] for ts in dataset]\n",
        "    )\n",
        "    d = dataset[0].shape[2]\n",
        "    dataset_out = np.zeros((n_ts, 3,max_sz, d,1))\n",
        "    for i in range(n_ts):\n",
        "        ts = dataset[i]\n",
        "        dataset_out[i, :,0: ts.shape[1],:,:] = ts\n",
        "    return dataset_out"
      ]
    },
    {
      "cell_type": "markdown",
      "metadata": {},
      "source": [
        "# loop thru keypoint files and create numpy array of shape no of batches , 3 (X,y,X  axis), 420 as no of frames , 33 as no of joints, 1 as no of persons in frame"
      ]
    },
    {
      "cell_type": "code",
      "execution_count": 19,
      "metadata": {
        "execution": {
          "iopub.execute_input": "2024-05-29T05:35:00.105316Z",
          "iopub.status.busy": "2024-05-29T05:35:00.105065Z",
          "iopub.status.idle": "2024-05-29T05:35:02.950439Z",
          "shell.execute_reply": "2024-05-29T05:35:02.948950Z",
          "shell.execute_reply.started": "2024-05-29T05:35:00.105294Z"
        },
        "id": "CdXV2F1BKl4y",
        "trusted": true
      },
      "outputs": [],
      "source": [
        "i=0\n",
        "fp=[]\n",
        "y=[]\n",
        "for root, dirs, files in os.walk('./Data/MediaPipe/Train'):\n",
        "        for name in files:\n",
        "                if(name.endswith('.csv') == False):\n",
        "                    continue\n",
        "                filepath = root + os.sep + name\n",
        "                worktype = filepath.split(os.sep )[-2]\n",
        "                filename = filepath.split(os.sep)[-1].replace('.csv','')\n",
        "                if(os.path.getsize(filepath) > 0):\n",
        "                    data = read_xyz(filepath)\n",
        "                    data = pre_normalization(data)\n",
        "                    data =data/np.linalg.norm(data)\n",
        "                fp.append(data)\n",
        "                y.append(worktype)\n"
      ]
    },
    {
      "cell_type": "code",
      "execution_count": 20,
      "metadata": {
        "execution": {
          "iopub.execute_input": "2024-05-29T05:35:02.953398Z",
          "iopub.status.busy": "2024-05-29T05:35:02.952449Z",
          "iopub.status.idle": "2024-05-29T05:35:03.007101Z",
          "shell.execute_reply": "2024-05-29T05:35:03.005686Z",
          "shell.execute_reply.started": "2024-05-29T05:35:02.953346Z"
        },
        "id": "cJQ1Eu_7Kl4z",
        "trusted": true
      },
      "outputs": [],
      "source": [
        "X= reshape(fp)\n",
        "encoder = LabelEncoder()\n",
        "y = encoder.fit_transform(y)"
      ]
    },
    {
      "cell_type": "markdown",
      "metadata": {},
      "source": [
        "# Test Train split with shuffle to create dataset "
      ]
    },
    {
      "cell_type": "code",
      "execution_count": 21,
      "metadata": {
        "execution": {
          "iopub.execute_input": "2024-05-29T05:35:03.016981Z",
          "iopub.status.busy": "2024-05-29T05:35:03.016445Z",
          "iopub.status.idle": "2024-05-29T05:35:03.057536Z",
          "shell.execute_reply": "2024-05-29T05:35:03.056219Z",
          "shell.execute_reply.started": "2024-05-29T05:35:03.016935Z"
        },
        "id": "2ZoVeEl3Kl4z",
        "trusted": true
      },
      "outputs": [],
      "source": [
        "X_train, X_test, y_train, y_test = train_test_split(X, y, test_size=0.3, random_state=42, shuffle=True)"
      ]
    },
    {
      "cell_type": "code",
      "execution_count": 12,
      "metadata": {
        "execution": {
          "iopub.execute_input": "2024-05-29T05:35:03.067036Z",
          "iopub.status.busy": "2024-05-29T05:35:03.063791Z",
          "iopub.status.idle": "2024-05-29T05:35:03.077217Z",
          "shell.execute_reply": "2024-05-29T05:35:03.075421Z",
          "shell.execute_reply.started": "2024-05-29T05:35:03.066985Z"
        },
        "id": "C5mhaNVRKl4z",
        "trusted": true
      },
      "outputs": [],
      "source": [
        "REGULARIZER = tf.keras.regularizers.l2(0.0001)\n",
        "INITIALIZER = tf.keras.initializers.VarianceScaling(scale=2.,\n",
        "                                                    mode=\"fan_out\",\n",
        "                                                    distribution=\"truncated_normal\")\n"
      ]
    },
    {
      "cell_type": "markdown",
      "metadata": {},
      "source": [
        "# Below SGCN class is for applying spatial convolution in 2D with  kernel size of 1 and apply Weight based on adjacency matrix of the graph"
      ]
    },
    {
      "cell_type": "code",
      "execution_count": 13,
      "metadata": {
        "execution": {
          "iopub.execute_input": "2024-05-29T05:35:03.081833Z",
          "iopub.status.busy": "2024-05-29T05:35:03.081554Z",
          "iopub.status.idle": "2024-05-29T05:35:03.090096Z",
          "shell.execute_reply": "2024-05-29T05:35:03.089297Z",
          "shell.execute_reply.started": "2024-05-29T05:35:03.081810Z"
        },
        "id": "lbe10wluKl4z",
        "trusted": true
      },
      "outputs": [],
      "source": [
        "class SGCN(tf.keras.Model):\n",
        "    def __init__(self, filters, kernel_size=3):\n",
        "        super().__init__()\n",
        "        self.kernel_size = kernel_size\n",
        "        self.conv = tf.keras.layers.Conv2D(filters*kernel_size,\n",
        "                                           kernel_size=1,\n",
        "                                           padding='same',\n",
        "                                           kernel_initializer=INITIALIZER,\n",
        "                                           data_format='channels_first',\n",
        "                                         kernel_regularizer=REGULARIZER)\n",
        "\n",
        "    # N, C, T, V\n",
        "    def call(self, x,A,training):\n",
        "        x = self.conv(x)\n",
        "\n",
        "        N = tf.shape(x)[0]\n",
        "        C = tf.shape(x)[1]\n",
        "        T = tf.shape(x)[2]\n",
        "        V = tf.shape(x)[3]\n",
        "\n",
        "        x = tf.reshape(x, [N, self.kernel_size, C//self.kernel_size, T, V])\n",
        "        x = tf.einsum('nkctv,kvw->nctw', x, A)\n",
        "        return x, A"
      ]
    },
    {
      "cell_type": "markdown",
      "metadata": {},
      "source": [
        "# Below STGCN applies the temporal convolution with kernal size of [9,1] "
      ]
    },
    {
      "cell_type": "code",
      "execution_count": 14,
      "metadata": {
        "execution": {
          "iopub.execute_input": "2024-05-29T05:35:03.091530Z",
          "iopub.status.busy": "2024-05-29T05:35:03.091214Z",
          "iopub.status.idle": "2024-05-29T05:35:03.106586Z",
          "shell.execute_reply": "2024-05-29T05:35:03.105755Z",
          "shell.execute_reply.started": "2024-05-29T05:35:03.091503Z"
        },
        "id": "JR7K_P7wKl40",
        "trusted": true
      },
      "outputs": [],
      "source": [
        "class STGCN(tf.keras.Model):\n",
        "    def __init__(self, filters, kernel_size=[9, 3], stride=1, activation='relu',\n",
        "                 residual=True, downsample=False):\n",
        "        super().__init__()\n",
        "        self.sgcn = SGCN(filters, kernel_size=kernel_size[1])\n",
        "\n",
        "        self.tgcn = tf.keras.Sequential()\n",
        "        self.tgcn.add(tf.keras.layers.BatchNormalization(axis=1))\n",
        "        self.tgcn.add(tf.keras.layers.Activation(activation))\n",
        "        self.tgcn.add(tf.keras.layers.Conv2D(filters,\n",
        "                                                kernel_size=[kernel_size[0], 1],\n",
        "                                                strides=[stride, 1],\n",
        "                                                padding='same',\n",
        "                                                kernel_initializer=INITIALIZER,\n",
        "                                                data_format='channels_first',\n",
        "                                                kernel_regularizer=REGULARIZER))\n",
        "        self.tgcn.add(tf.keras.layers.BatchNormalization(axis=1))\n",
        "\n",
        "        self.act = tf.keras.layers.Activation(activation)\n",
        "\n",
        "        if not residual:\n",
        "            self.residual = lambda x, training=False: 0\n",
        "        elif residual and stride == 1 and not downsample:\n",
        "            self.residual = lambda x, training=False: x\n",
        "        else:\n",
        "            self.residual = tf.keras.Sequential()\n",
        "            self.residual.add(tf.keras.layers.Conv2D(filters,\n",
        "                                                        kernel_size=[1, 1],\n",
        "                                                        strides=[stride, 1],\n",
        "                                                        padding='same',\n",
        "                                                        kernel_initializer=INITIALIZER,\n",
        "                                                        data_format='channels_first',\n",
        "                                                        kernel_regularizer=REGULARIZER))\n",
        "            self.residual.add(tf.keras.layers.BatchNormalization(axis=1))\n",
        "\n",
        "    def call(self, x, A, training):\n",
        "        res = self.residual(x, training=training)\n",
        "        x, A = self.sgcn(x, A, training=training)\n",
        "        x = self.tgcn(x, training=training)\n",
        "        x += res\n",
        "        x = self.act(x)\n",
        "        return x, A"
      ]
    },
    {
      "cell_type": "markdown",
      "metadata": {},
      "source": [
        "# Below is the Model class which layers above 10 STGCN "
      ]
    },
    {
      "cell_type": "code",
      "execution_count": 15,
      "metadata": {
        "execution": {
          "iopub.execute_input": "2024-05-29T05:35:03.107901Z",
          "iopub.status.busy": "2024-05-29T05:35:03.107649Z",
          "iopub.status.idle": "2024-05-29T05:35:03.124590Z",
          "shell.execute_reply": "2024-05-29T05:35:03.123960Z",
          "shell.execute_reply.started": "2024-05-29T05:35:03.107880Z"
        },
        "id": "FvLgpVMFKl40",
        "trusted": true
      },
      "outputs": [],
      "source": [
        "class Model(tf.keras.Model):\n",
        "    def __init__(self, num_classes=60):\n",
        "        super().__init__()\n",
        "\n",
        "        graph = Graph()\n",
        "        self.A = tf.Variable(graph.A,\n",
        "                             dtype=tf.float32,\n",
        "                             trainable=False,\n",
        "                             name='adjacency_matrix')\n",
        "\n",
        "        self.data_bn = tf.keras.layers.BatchNormalization(axis=1)\n",
        "\n",
        "        self.STGCN_layers = []\n",
        "        self.STGCN_layers.append(STGCN(64, residual=False))\n",
        "        self.STGCN_layers.append(STGCN(64))\n",
        "        self.STGCN_layers.append(STGCN(64))\n",
        "        self.STGCN_layers.append(STGCN(64))\n",
        "        self.STGCN_layers.append(STGCN(128, stride=2, downsample=True))\n",
        "        self.STGCN_layers.append(STGCN(128))\n",
        "        self.STGCN_layers.append(STGCN(128))\n",
        "        self.STGCN_layers.append(STGCN(256, stride=2, downsample=True))\n",
        "        self.STGCN_layers.append(STGCN(256))\n",
        "        self.STGCN_layers.append(STGCN(256))\n",
        "\n",
        "        self.pool = tf.keras.layers.GlobalAveragePooling2D(data_format='channels_first')\n",
        "\n",
        "        self.logits = tf.keras.layers.Conv2D(num_classes,\n",
        "                                             kernel_size=1,\n",
        "                                             padding='same',\n",
        "                                             kernel_initializer=INITIALIZER,\n",
        "                                             data_format='channels_first',\n",
        "                                             kernel_regularizer=REGULARIZER)\n",
        "        self.act = self.act = tf.keras.layers.Activation('softmax')\n",
        "\n",
        "    def call(self, x, training):\n",
        "        N = tf.shape(x)[0]\n",
        "        C = tf.shape(x)[1]\n",
        "        T = tf.shape(x)[2]\n",
        "        V = tf.shape(x)[3]\n",
        "        M = tf.shape(x)[4]\n",
        "\n",
        "        x = tf.transpose(x, perm=[0, 4, 3, 1, 2])\n",
        "        x = tf.reshape(x, [N * M, V * C, T])\n",
        "        x = self.data_bn(x, training=training)\n",
        "        x = tf.reshape(x, [N, M, V, C, T])\n",
        "        x = tf.transpose(x, perm=[0, 1, 3, 4, 2])\n",
        "        x = tf.reshape(x, [N * M, C, T, V])\n",
        "        A = self.A\n",
        "        for layer in self.STGCN_layers:\n",
        "            x, A = layer(x, A, training=training)\n",
        "         # N*M,C,T,V\n",
        "        x = self.pool(x)\n",
        "        x = tf.reshape(x, [N, M, -1, 1, 1])\n",
        "        x = tf.reduce_mean(x, axis=1)\n",
        "        x = self.logits(x)\n",
        "        x = tf.reshape(x, [N, -1])\n",
        "        return self.act(x)"
      ]
    },
    {
      "cell_type": "markdown",
      "metadata": {},
      "source": [
        "# instatiate the model with 5 classes as output and adam optimizer and sparse_categorical_crossentropy loss and sparse_categorical_accuracy"
      ]
    },
    {
      "cell_type": "code",
      "execution_count": 33,
      "metadata": {
        "colab": {
          "base_uri": "https://localhost:8080/"
        },
        "execution": {
          "iopub.execute_input": "2024-05-29T05:36:06.074159Z",
          "iopub.status.busy": "2024-05-29T05:36:06.073431Z",
          "iopub.status.idle": "2024-05-29T05:36:48.665361Z",
          "shell.execute_reply": "2024-05-29T05:36:48.664543Z",
          "shell.execute_reply.started": "2024-05-29T05:36:06.074127Z"
        },
        "id": "rw23411nKl40",
        "outputId": "f69938c3-37dc-4b7c-ab33-7bd6ffc48f33",
        "trusted": true
      },
      "outputs": [
        {
          "name": "stdout",
          "output_type": "stream",
          "text": [
            "1/1 [==============================] - 10s 10s/step - loss: 13.7489 - sparse_categorical_accuracy: 0.0000e+00\n",
            "Epoch 1/10\n",
            "2/2 [==============================] - 25s 23s/step - loss: 10.3558 - sparse_categorical_accuracy: 0.3396 - val_loss: 4.6233 - val_sparse_categorical_accuracy: 0.1304 - lr: 0.0010\n",
            "Epoch 2/10\n",
            "2/2 [==============================] - 3s 2s/step - loss: 3.9757 - sparse_categorical_accuracy: 0.6415 - val_loss: 11.6784 - val_sparse_categorical_accuracy: 0.4348 - lr: 0.0010\n",
            "Epoch 3/10\n",
            "2/2 [==============================] - 4s 2s/step - loss: 3.1463 - sparse_categorical_accuracy: 0.6415 - val_loss: 33.2976 - val_sparse_categorical_accuracy: 0.4348 - lr: 0.0010\n",
            "Epoch 4/10\n",
            "2/2 [==============================] - 4s 2s/step - loss: 1.8673 - sparse_categorical_accuracy: 0.8302 - val_loss: 45.3582 - val_sparse_categorical_accuracy: 0.4348 - lr: 0.0010\n",
            "Epoch 5/10\n",
            "2/2 [==============================] - 3s 2s/step - loss: 2.7813 - sparse_categorical_accuracy: 0.8302 - val_loss: 54.5319 - val_sparse_categorical_accuracy: 0.4348 - lr: 0.0010\n",
            "Epoch 6/10\n",
            "2/2 [==============================] - 4s 2s/step - loss: 1.1815 - sparse_categorical_accuracy: 0.8491 - val_loss: 66.3225 - val_sparse_categorical_accuracy: 0.4348 - lr: 0.0010\n",
            "Epoch 7/10\n",
            "2/2 [==============================] - 3s 2s/step - loss: 0.6612 - sparse_categorical_accuracy: 0.9811 - val_loss: 75.4112 - val_sparse_categorical_accuracy: 0.4348 - lr: 0.0010\n",
            "Epoch 8/10\n",
            "2/2 [==============================] - 3s 2s/step - loss: 0.8153 - sparse_categorical_accuracy: 0.8868 - val_loss: 96.2026 - val_sparse_categorical_accuracy: 0.4348 - lr: 0.0010\n",
            "Epoch 9/10\n",
            "2/2 [==============================] - 4s 2s/step - loss: 0.6659 - sparse_categorical_accuracy: 0.9811 - val_loss: 113.5326 - val_sparse_categorical_accuracy: 0.4348 - lr: 0.0010\n",
            "Epoch 10/10\n",
            "2/2 [==============================] - 3s 2s/step - loss: 0.7926 - sparse_categorical_accuracy: 0.9623 - val_loss: 128.3831 - val_sparse_categorical_accuracy: 0.4348 - lr: 0.0010\n"
          ]
        }
      ],
      "source": [
        "epochs = 10\n",
        "batch_size = 32\n",
        "num_classes = 5\n",
        "model = Model(num_classes)\n",
        "\n",
        "callbacks = [\n",
        "    tf.keras.callbacks.ModelCheckpoint(\n",
        "        \"best_model.keras\", save_best_only=True, monitor=\"val_loss\"\n",
        "    ),\n",
        "    tf.keras.callbacks.ReduceLROnPlateau(\n",
        "        monitor=\"val_loss\", factor=0.5, patience=20, min_lr=0.01\n",
        "    ),\n",
        "    tf.keras.callbacks.EarlyStopping(monitor=\"val_loss\", patience=50, verbose=1),\n",
        "]\n",
        "model.compile(\n",
        "    optimizer=\"adam\",\n",
        "    loss=\"sparse_categorical_crossentropy\",\n",
        "    metrics=[\"sparse_categorical_accuracy\"],run_eagerly=True\n",
        ")\n",
        "history = model.fit(\n",
        "    X_train,\n",
        "    y_train,\n",
        "    batch_size=batch_size,\n",
        "    epochs=epochs,\n",
        "    callbacks=callbacks,\n",
        "    validation_split=0.3,\n",
        "    verbose=1,\n",
        ")"
      ]
    },
    {
      "cell_type": "code",
      "execution_count": 36,
      "metadata": {
        "colab": {
          "base_uri": "https://localhost:8080/"
        },
        "execution": {
          "iopub.status.busy": "2024-05-29T05:35:13.904813Z",
          "iopub.status.idle": "2024-05-29T05:35:13.905131Z",
          "shell.execute_reply": "2024-05-29T05:35:13.904982Z",
          "shell.execute_reply.started": "2024-05-29T05:35:13.904969Z"
        },
        "id": "1exBwY6Iim4t",
        "outputId": "2eb7180c-5688-4dc8-ac73-8bf2e0bb17cf",
        "trusted": true
      },
      "outputs": [
        {
          "name": "stdout",
          "output_type": "stream",
          "text": [
            "2/2 [==============================] - 1s 269ms/step - loss: 147.4101 - sparse_categorical_accuracy: 0.3939\n",
            "Test accuracy 0.39393940567970276\n",
            "Test loss 147.4100799560547\n"
          ]
        }
      ],
      "source": [
        "\n",
        "test_loss, test_acc = model.evaluate(X_test, y_test)\n",
        "\n",
        "print(\"Test accuracy\", test_acc)\n",
        "print(\"Test loss\", test_loss)"
      ]
    }
  ],
  "metadata": {
    "accelerator": "GPU",
    "colab": {
      "gpuType": "T4",
      "provenance": []
    },
    "kaggle": {
      "accelerator": "nvidiaTeslaT4",
      "dataSources": [
        {
          "datasetId": 5074576,
          "sourceId": 8502721,
          "sourceType": "datasetVersion"
        }
      ],
      "dockerImageVersionId": 30699,
      "isGpuEnabled": true,
      "isInternetEnabled": true,
      "language": "python",
      "sourceType": "notebook"
    },
    "kernelspec": {
      "display_name": "Python 3",
      "language": "python",
      "name": "python3"
    },
    "language_info": {
      "codemirror_mode": {
        "name": "ipython",
        "version": 3
      },
      "file_extension": ".py",
      "mimetype": "text/x-python",
      "name": "python",
      "nbconvert_exporter": "python",
      "pygments_lexer": "ipython3",
      "version": "3.10.13"
    }
  },
  "nbformat": 4,
  "nbformat_minor": 0
}
